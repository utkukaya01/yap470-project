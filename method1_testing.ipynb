{
 "cells": [
  {
   "cell_type": "markdown",
   "id": "10e77cbf",
   "metadata": {},
   "source": [
    "# **Fake News Detection - Method 1 (Testing)**"
   ]
  },
  {
   "cell_type": "markdown",
   "id": "c0cd924d",
   "metadata": {},
   "source": [
    "Imported libraries and loaded datas"
   ]
  },
  {
   "cell_type": "code",
   "execution_count": null,
   "id": "d5c2eb54",
   "metadata": {},
   "outputs": [],
   "source": [
    "import joblib\n",
    "from pathlib import Path\n",
    "from sklearn.metrics import classification_report\n",
    "\n",
    "# Load test datas\n",
    "isot_test_df = joblib.load(Path(\"data/processed\") / \"isot_test.pkl\")\n",
    "liar_test_df = joblib.load(Path(\"data/processed\") / \"liar_test.pkl\")\n",
    "\n",
    "# Map the test sets\n",
    "test_lookup = {\n",
    "    \"isot\": (isot_test_df[\"cleaned\"], isot_test_df[\"label\"]),\n",
    "    \"liar\": (liar_test_df[\"cleaned\"], liar_test_df[\"label\"])\n",
    "}\n",
    "print(\"Test datas loaded: \", {k: v[0].shape[0] for k, v in test_lookup.items()})"
   ]
  },
  {
   "cell_type": "markdown",
   "id": "60f87c77",
   "metadata": {},
   "source": [
    "Wrote a function to evaluate models"
   ]
  },
  {
   "cell_type": "code",
   "execution_count": null,
   "id": "25428b18",
   "metadata": {},
   "outputs": [],
   "source": [
    "def evaluate_pipeline(pkl_path: Path):\n",
    "    dataset, feature_space, model_name = pkl_path.stem.split(\"_\")\n",
    "    X_test, y_test = test_lookup[dataset]\n",
    "\n",
    "    # Load model\n",
    "    pipe = joblib.load(pkl_path)\n",
    "\n",
    "    # Test model\n",
    "    y_pred = pipe.predict(X_test)\n",
    "\n",
    "    # Display metrics\n",
    "    print(f\"Testing on '{dataset}' with features of '{feature_space}' using '{model_name}'\")\n",
    "    print(classification_report(y_test, y_pred, digits=4))"
   ]
  },
  {
   "cell_type": "markdown",
   "id": "f85290b4",
   "metadata": {},
   "source": [
    "Evaluated models"
   ]
  },
  {
   "cell_type": "code",
   "execution_count": null,
   "id": "4de5d271",
   "metadata": {},
   "outputs": [],
   "source": [
    "for pkl in sorted(Path(\"saved_models/method1\").glob(\"*.pkl\")):\n",
    "    evaluate_pipeline(pkl)\n",
    "    print()"
   ]
  }
 ],
 "metadata": {
  "language_info": {
   "name": "python"
  }
 },
 "nbformat": 4,
 "nbformat_minor": 5
}
